{
 "metadata": {
  "language_info": {
   "codemirror_mode": {
    "name": "ipython",
    "version": 3
   },
   "file_extension": ".py",
   "mimetype": "text/x-python",
   "name": "python",
   "nbconvert_exporter": "python",
   "pygments_lexer": "ipython3",
   "version": "3.9.0"
  },
  "orig_nbformat": 4,
  "kernelspec": {
   "name": "python3",
   "display_name": "Python 3.9.0 64-bit"
  },
  "interpreter": {
   "hash": "322e5b4af970d614be014a88b1853ca1fd99b2f4bc97f4da6e5824f5dbf2a6b7"
  }
 },
 "nbformat": 4,
 "nbformat_minor": 2,
 "cells": [
  {
   "cell_type": "code",
   "execution_count": 1,
   "metadata": {},
   "outputs": [],
   "source": [
    "#selenium click\n",
    "import time\n",
    "from selenium import webdriver as wd\n",
    "from selenium.webdriver.support import expected_conditions as EC\n",
    "\n",
    "#check robot"
   ]
  },
  {
   "source": [
    "driver = wd.Chrome(executable_path='C:/Users/anany/.wdm/drivers/chromedriver/win32/91.0.4472.101/chromedriver.exe')\n",
    "\n",
    "driver.get(\"https://sdsclub.com/\")\n",
    "\n",
    "driver.find_element_by_xpath('/html/body/header/div/div/div[2]/a').click()\n",
    "\n",
    "username=driver.find_element_by_xpath(\"/html/body/div[2]/div[2]/div[4]/div/div/div/form/div[1]/input\")\n",
    "username.send_keys(\"username\")\n",
    "\n",
    "passwors=driver.find_element_by_xpath(\"/html/body/div[2]/div[2]/div[4]/div/div/div/form/div[2]/input\")\n",
    "passwors.send_keys(\"password\")\n",
    "\n",
    "time.sleep(3)\n",
    "\n",
    "driver.quit()"
   ],
   "cell_type": "code",
   "metadata": {},
   "execution_count": 2,
   "outputs": []
  },
  {
   "cell_type": "code",
   "execution_count": 3,
   "metadata": {},
   "outputs": [],
   "source": [
    "driver = wd.Chrome(executable_path='C:/Users/anany/.wdm/drivers/chromedriver/win32/91.0.4472.101/chromedriver.exe')\n",
    "\n",
    "driver.get(\"https://sdsclub.com/\")\n",
    "lerarning_path = driver.find_element_by_xpath(\"/html/body/header/div/div/div[2]/nav/ul/li[1]/a\")\n",
    "lerarning_path.click()\n",
    "career_path = driver.find_element_by_xpath(\"/html/body/section[2]/div/div[2]/div[3]/div/figure/a\")\n",
    "career_path.click()"
   ]
  }
 ]
}