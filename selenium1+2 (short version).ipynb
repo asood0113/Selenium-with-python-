{
 "metadata": {
  "language_info": {
   "codemirror_mode": {
    "name": "ipython",
    "version": 3
   },
   "file_extension": ".py",
   "mimetype": "text/x-python",
   "name": "python",
   "nbconvert_exporter": "python",
   "pygments_lexer": "ipython3",
   "version": "3.9.0"
  },
  "orig_nbformat": 4,
  "kernelspec": {
   "name": "python3",
   "display_name": "Python 3.9.0 64-bit"
  },
  "interpreter": {
   "hash": "322e5b4af970d614be014a88b1853ca1fd99b2f4bc97f4da6e5824f5dbf2a6b7"
  }
 },
 "nbformat": 4,
 "nbformat_minor": 2,
 "cells": [
  {
   "source": [
    "<h3>SELENIUM REPORT</h3>"
   ],
   "cell_type": "markdown",
   "metadata": {}
  },
  {
   "cell_type": "code",
   "execution_count": 1,
   "metadata": {},
   "outputs": [],
   "source": [
    "import time\n",
    "from selenium import webdriver as wd\n",
    "# to send keys\n",
    "from selenium.webdriver.common.keys import Keys"
   ]
  },
  {
   "source": [
    "driver = wd.Chrome(ChromeDriverManager().install())"
   ],
   "cell_type": "markdown",
   "metadata": {}
  },
  {
   "source": [
    "<h1>CODE TO OPEN GOOGLE AND ENTER SELENIUM AUTOMATICALLY </h1>"
   ],
   "cell_type": "markdown",
   "metadata": {}
  },
  {
   "cell_type": "code",
   "execution_count": 2,
   "metadata": {},
   "outputs": [],
   "source": [
    "#the instance of Chrome WebDriver is created\n",
    "\n",
    "driver = wd.Chrome(executable_path='C:/Users/anany/.wdm/drivers/chromedriver/win32/91.0.4472.101/chromedriver.exe')\n",
    "\n",
    "# driver.get method will navigate to the page given by the url\n",
    "\n",
    "driver.get(\"http://www.google.com\")\n",
    "\n",
    "# this is to find the element there are a number of ways to do that  \n",
    "\n",
    "element = driver.find_element_by_xpath(\"/html/body/div[1]/div[3]/form/div[1]/div[1]/div[1]/div/div[2]/input\")\n",
    "\n"
   ]
  },
  {
   "source": [
    "<h1>Ways to find/locate  Elements</h1>\n",
    "\n",
    "<h3> If we want to find/locate this</h3>\n",
    "\n",
    "input type=\"text\" name=\"passwd\" id=\"passwd-id\" \n",
    "\n",
    "<h3>This can be typed<h3>\n",
    "\n",
    "1. element = driver.find_element_by_id(\"passwd-id\")\n",
    "2. element = driver.find_element_by_name(\"passwd\")\n",
    "3. element = driver.find_element_by_xpath(\"//input[@id='passwd-id']\")\n",
    "4. element = driver.find_element_by_css_selector(\"input#passwd-id\") \"\"\"\n"
   ],
   "cell_type": "markdown",
   "metadata": {}
  },
  {
   "cell_type": "code",
   "execution_count": 3,
   "metadata": {},
   "outputs": [],
   "source": [
    "#we are sending keys, this is similar to entering keys from the keyboard\n",
    "\n",
    "element.send_keys(\"Selenium\", Keys.ENTER)\n",
    "\n",
    "# Web diver waits for this much time irrespective of the conditions\n",
    "\n",
    "time.sleep(2)\n",
    "\n",
    "# to close the browser window we can use diver.quit() as well\n",
    "\n",
    "driver.close()"
   ]
  },
  {
   "source": [
    "<h3>IMPORTANT NOTE<h3>\n",
    "Difference between <b>driver.close() </b> and <b>driver.quit()</b> is that quit will exit entire browser whereas close will close one tab, but if just one tab was open, by default most browser will exit entirely."
   ],
   "cell_type": "markdown",
   "metadata": {}
  },
  {
   "source": [
    "<h1>COOKIES<H1>"
   ],
   "cell_type": "markdown",
   "metadata": {}
  },
  {
   "cell_type": "code",
   "execution_count": 3,
   "metadata": {},
   "outputs": [
    {
     "output_type": "execute_result",
     "data": {
      "text/plain": [
       "[{'domain': 'www.google.com',\n",
       "  'httpOnly': False,\n",
       "  'name': 'foo',\n",
       "  'path': '/',\n",
       "  'secure': True,\n",
       "  'value': 'bar'},\n",
       " {'domain': '.google.com',\n",
       "  'expiry': 1639746540,\n",
       "  'httpOnly': True,\n",
       "  'name': 'NID',\n",
       "  'path': '/',\n",
       "  'sameSite': 'None',\n",
       "  'secure': True,\n",
       "  'value': '217=nIupbHm4gNQp5gcyErx20CBHlthz18etbjcZAVXt4CtxDs7e7VTxp5YCs-T3FdprxTMl1CYPH8Br8OdV_26VSHR8Hhbg9_z19nBLg9HGigdJKtZ7AuHFpu7w8Pg2gQTOS52TfjPAtpRPj8aWEJMlLNXrEUJQEodSnPpmijftd34'},\n",
       " {'domain': '.google.com',\n",
       "  'expiry': 1626527341,\n",
       "  'httpOnly': False,\n",
       "  'name': '1P_JAR',\n",
       "  'path': '/',\n",
       "  'sameSite': 'None',\n",
       "  'secure': True,\n",
       "  'value': '2021-06-17-13'}]"
      ]
     },
     "metadata": {},
     "execution_count": 3
    }
   ],
   "source": [
    "# The instance of Chrome WebDriver is created\n",
    "\n",
    "driver=wd.Chrome(executable_path='C:/Users/anany/.wdm/drivers/chromedriver/win32/91.0.4472.101/chromedriver.exe')\n",
    "\n",
    "# Go to the correct domain\n",
    "driver.get(\"http://www.google.com\")\n",
    "\n",
    "# Now set the cookie. This one's valid for the entire domain\n",
    "# A dictionary object is used , with required keys - \"name\" and \"value\"; Adds a cookie to the current session\n",
    "\n",
    "cookie = {'name' : 'foo', 'value' : 'bar'}\n",
    "driver.add_cookie(cookie)\n",
    "\n",
    "# And now output all the available cookies for the current URL\n",
    "\n",
    "driver.get_cookies()"
   ]
  },
  {
   "source": [
    "<h1>Explicit Waits<h1>\n",
    "\n",
    "<h3>An explicit wait is a code you define to wait for a certain condition to occur before proceeding further in the code.The extreme case of this is time.sleep(), which sets the condition to an exact time period to wait."
   ],
   "cell_type": "markdown",
   "metadata": {}
  },
  {
   "source": [
    "<h1>Expected Conditions</h1>\n",
    "<h3>By default, WebDriverWait calls the ExpectedCondition every 500 milliseconds until it returns success. ExpectedCondition will return true (Boolean) in case of success or not null if it fails to locate an element.</h3>\n",
    "\n",
    "1. title_is\n",
    "2. title_contains\n",
    "3. presence_of_element_located\n",
    "4. visibility_of_element_located\n",
    "5.visibility_of\n",
    "6. presence_of_all_elements_located\n",
    "7. text_to_be_present_in_element\n",
    "8. text_to_be_present_in_element_value\n",
    "9. frame_to_be_available_and_switch_to_it\n",
    "10. invisibility_of_element_located\n",
    "11. element_to_be_clickable\n",
    "12. staleness_of\n",
    "13. element_to_be_selected\n",
    "14. element_located_to_be_selected\n",
    "15. element_selection_state_to_be\n",
    "16. element_located_selection_state_to_be\n",
    "17. alert_is_present"
   ],
   "cell_type": "markdown",
   "metadata": {}
  },
  {
   "cell_type": "code",
   "execution_count": 7,
   "metadata": {},
   "outputs": [],
   "source": [
    "from selenium.webdriver.support.ui import WebDriverWait\n",
    "from selenium.webdriver.support import expected_conditions as EC\n",
    "from selenium.webdriver.common.by import By\n",
    "\n",
    "#the instance of Chrome WebDriver is created\n",
    "\n",
    "driver=wd.Chrome(executable_path='C:/Users/anany/.wdm/drivers/chromedriver/win32/91.0.4472.101/chromedriver.exe')\n",
    "\n",
    "# Go to the correct domain\n",
    "\n",
    "driver.get(\"http://www.instagram.com\")\n",
    "try:\n",
    "\n",
    "# Selenium will wait for a maximum of 10 seconds for an element matching the given criteria to be found.    \n",
    "\n",
    "    element = WebDriverWait(driver, 10).until(\n",
    "        EC.presence_of_element_located((By.XPATH, \"/html/body/div[1]/section/main/article/div[2]/div[1]/div/form/div/div[1]/div/label/input\"))\n",
    "    )\n",
    "# If no element is found in that time, a TimeoutException is thrown  \n",
    "\n",
    "finally:\n",
    "    # Web diver waits for this much time \n",
    "\n",
    "    time.sleep(2)\n",
    "\n",
    "    # to close the browser window \n",
    "\n",
    "    driver.close()"
   ]
  },
  {
   "source": [
    "<h1>Implicit Waits</h1>\n",
    "<h3>An implicit wait tells WebDriver to poll the DOM for a certain amount of time when trying to find any element (or elements) not immediately available. The default setting is 0 (zero). Once set, the implicit wait is set for the life of the WebDriver object."
   ],
   "cell_type": "markdown",
   "metadata": {}
  },
  {
   "cell_type": "code",
   "execution_count": 9,
   "metadata": {},
   "outputs": [],
   "source": [
    "# the instance of Chrome WebDriver is created\n",
    "\n",
    "driver=wd.Chrome(executable_path='C:/Users/anany/.wdm/drivers/chromedriver/win32/91.0.4472.101/chromedriver.exe')\n",
    "\n",
    "# this works best on urls that take time loading \n",
    "\n",
    "driver.implicitly_wait(10) # seconds\n",
    "\n",
    "driver.get(\"http://www.instagram.com\")\n",
    "\n",
    "# Web diver waits for this much time \n",
    "\n",
    "time.sleep(2)\n",
    "\n",
    "# to close the browser window \n",
    "\n",
    "driver.close()"
   ]
  },
  {
   "source": [
    "<h1>USING SELENIUM TO ENTER USERNAME AND PASSWORD IN A WEBSITE</h1>\n"
   ],
   "cell_type": "markdown",
   "metadata": {}
  },
  {
   "cell_type": "code",
   "execution_count": 3,
   "metadata": {},
   "outputs": [],
   "source": [
    "# the instance of Chrome WebDriver is created\n",
    "\n",
    "driver = wd.Chrome(executable_path='C:/Users/anany/.wdm/drivers/chromedriver/win32/91.0.4472.101/chromedriver.exe')\n",
    "\n",
    "# driver.get method will navigate to the page given by the url\n",
    "\n",
    "driver.get(\"https://sdsclub.com/\")\n",
    "\n",
    "# this will find the element using xpath and .click() method will click in the element\n",
    "\n",
    "driver.find_element_by_xpath('/html/body/header/div/div/div[2]/a').click()\n",
    "\n",
    "# this finds the username input feild\n",
    "\n",
    "username=driver.find_element_by_xpath(\"/html/body/div[2]/div[2]/div[4]/div/div/div/form/div[1]/input\")\n",
    "\n",
    "# this will perform the action and automatically enter the username we wish to enter\n",
    "\n",
    "username.send_keys(\"username\")\n",
    "\n",
    "# this finds the password input feild\n",
    "\n",
    "passwors=driver.find_element_by_xpath(\"/html/body/div[2]/div[2]/div[4]/div/div/div/form/div[2]/input\")\n",
    "\n",
    "# this will perform the action and automatically enter the username we wish to enter\n",
    "\n",
    "passwors.send_keys(\"password\")\n",
    "\n",
    "# Web diver waits for this much time \n",
    "\n",
    "time.sleep(3)\n",
    "\n",
    "# this is to close the driver window\n",
    "\n",
    "driver.quit()"
   ]
  }
 ]
}